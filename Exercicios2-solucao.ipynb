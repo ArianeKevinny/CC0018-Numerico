{
 "cells": [
  {
   "cell_type": "code",
   "execution_count": 14,
   "id": "2d41fa35",
   "metadata": {},
   "outputs": [],
   "source": [
    "import numpy as np\n",
    "import math as mp"
   ]
  },
  {
   "cell_type": "markdown",
   "id": "754d6006",
   "metadata": {},
   "source": [
    "**Questão 1.**"
   ]
  },
  {
   "cell_type": "code",
   "execution_count": 6,
   "id": "2b9d227e",
   "metadata": {},
   "outputs": [],
   "source": [
    "def EA(p,ptil):\n",
    "    return np.abs(ptil - p)\n",
    "\n",
    "def ER(p,ptil):\n",
    "    return EA(p,ptil)/np.abs(p)"
   ]
  },
  {
   "cell_type": "markdown",
   "id": "af548f1f",
   "metadata": {},
   "source": [
    "(a)"
   ]
  },
  {
   "cell_type": "code",
   "execution_count": 8,
   "id": "4e4f76ad",
   "metadata": {},
   "outputs": [
    {
     "data": {
      "text/plain": [
       "(26.465794806717895, 0.0012015452253333286)"
      ]
     },
     "execution_count": 8,
     "metadata": {},
     "output_type": "execute_result"
    }
   ],
   "source": [
    "EA(np.exp(10), 22000), ER(np.exp(10), 22000)"
   ]
  },
  {
   "cell_type": "markdown",
   "id": "61654a25",
   "metadata": {},
   "source": [
    "(b)"
   ]
  },
  {
   "cell_type": "code",
   "execution_count": 10,
   "id": "63bb51f8",
   "metadata": {},
   "outputs": [
    {
     "data": {
      "text/plain": [
       "(14.544268632989315, 0.010497822704619136)"
      ]
     },
     "execution_count": 10,
     "metadata": {},
     "output_type": "execute_result"
    }
   ],
   "source": [
    "EA(10**(np.pi), 1400), ER(10**(np.pi), 1400)"
   ]
  },
  {
   "cell_type": "markdown",
   "id": "8505455c",
   "metadata": {},
   "source": [
    "(c)"
   ]
  },
  {
   "cell_type": "code",
   "execution_count": 15,
   "id": "54d606c1",
   "metadata": {},
   "outputs": [
    {
     "data": {
      "text/plain": [
       "(420, 0.010416666666666666)"
      ]
     },
     "execution_count": 15,
     "metadata": {},
     "output_type": "execute_result"
    }
   ],
   "source": [
    "EA(mp.factorial(8), 39900), ER(mp.factorial(8), 39900)"
   ]
  },
  {
   "cell_type": "markdown",
   "id": "a668c801",
   "metadata": {},
   "source": [
    "(d)"
   ]
  },
  {
   "cell_type": "code",
   "execution_count": 22,
   "id": "93c3bf29",
   "metadata": {},
   "outputs": [
    {
     "data": {
      "text/plain": [
       "3343.1271580516477"
      ]
     },
     "execution_count": 22,
     "metadata": {},
     "output_type": "execute_result"
    }
   ],
   "source": [
    "EA(mp.factorial(9), np.sqrt(18*np.pi)*(9.0/np.e)**9)"
   ]
  },
  {
   "cell_type": "code",
   "execution_count": 23,
   "id": "42aa75c5",
   "metadata": {},
   "outputs": [
    {
     "data": {
      "text/plain": [
       "0.009212762230080598"
      ]
     },
     "execution_count": 23,
     "metadata": {},
     "output_type": "execute_result"
    }
   ],
   "source": [
    "ER(mp.factorial(9), np.sqrt(18*np.pi)*(9.0/np.e)**9)"
   ]
  }
 ],
 "metadata": {
  "kernelspec": {
   "display_name": "Python 3 (ipykernel)",
   "language": "python",
   "name": "python3"
  },
  "language_info": {
   "codemirror_mode": {
    "name": "ipython",
    "version": 3
   },
   "file_extension": ".py",
   "mimetype": "text/x-python",
   "name": "python",
   "nbconvert_exporter": "python",
   "pygments_lexer": "ipython3",
   "version": "3.9.2"
  }
 },
 "nbformat": 4,
 "nbformat_minor": 5
}
