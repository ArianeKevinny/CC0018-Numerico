{
 "cells": [
  {
   "cell_type": "markdown",
   "metadata": {
    "slideshow": {
     "slide_type": "slide"
    }
   },
   "source": [
    "# Métodos diretos para sistemas lineares\n",
    "*Algoritmos, custos e implementações*"
   ]
  },
  {
   "cell_type": "markdown",
   "metadata": {},
   "source": [
    "<br><br><br><br><br><br><br><br><br><br><br>\n",
    "\n",
    "\n",
    "\n",
    "\n",
    "Vicente Helano<br>\n",
    "UFCA | Centro de Ciências e Tecnologia"
   ]
  },
  {
   "cell_type": "markdown",
   "metadata": {
    "slideshow": {
     "slide_type": "slide"
    }
   },
   "source": [
    "## Escalonamento (sem pivotamento)"
   ]
  },
  {
   "cell_type": "markdown",
   "metadata": {},
   "source": [
    "Considere um sistema com $n$ equações e $n$ incógnitas.\n",
    "\n",
    "```\n",
    "para cada coluna k = 1 até n-1:\n",
    "  % atualize as linhas abaixo da linha k\n",
    "  para cada linha i = k+1 até n\n",
    "    peso = a_ik/a_kk\n",
    "    Li <- Li - peso*Lk\n",
    "    bi = bi - peso*bk\n",
    "```"
   ]
  },
  {
   "cell_type": "markdown",
   "metadata": {
    "slideshow": {
     "slide_type": "slide"
    }
   },
   "source": [
    "## Escalonamento (sem pivotamento)"
   ]
  },
  {
   "cell_type": "markdown",
   "metadata": {},
   "source": [
    "1: $\\mathbf{y} = \\mathbf{b}$  \n",
    "2: $\\mathbf{U} = \\mathbf{A}$  \n",
    "3: **para** $k = 1$ **até** $n - 1$:  \n",
    "4: &emsp;**para** $i = k+1$ **até** $n$:  \n",
    "5: &emsp;&emsp;$\\ell = u_{ik} / u_{kk}$  \n",
    "6: &emsp;&emsp;**para** $j = k+1$ **até** $n$  \n",
    "7: &emsp;&emsp;&emsp;$u_{ij} = u_{ij} - \\ell u_{kj}$  \n",
    "8: &emsp;&emsp;$y_{i} = y_{i} - \\ell y_{k}$  "
   ]
  },
  {
   "cell_type": "markdown",
   "metadata": {
    "slideshow": {
     "slide_type": "slide"
    }
   },
   "source": [
    "## Escalonamento (sem pivotamento)"
   ]
  },
  {
   "cell_type": "code",
   "execution_count": 63,
   "metadata": {},
   "outputs": [],
   "source": [
    "import numpy as np\n",
    "\n",
    "def escalona(A,b):\n",
    "    n = A.shape[0]\n",
    "    y = b.copy()\n",
    "    U = A.copy()\n",
    "    for k in range(0,n-1):\n",
    "        for i in range(k+1,n):\n",
    "            l = U[i,k]/U[k,k]\n",
    "            for j in range(k+1,n):\n",
    "                U[i,j] = U[i,j] - l*U[k,j]\n",
    "            #U[i,k] = 0.0\n",
    "            y[i] = y[i] - l*y[k]\n",
    "    \n",
    "    return U,y"
   ]
  },
  {
   "cell_type": "markdown",
   "metadata": {
    "slideshow": {
     "slide_type": "slide"
    }
   },
   "source": [
    "## Exemplo de escalonamento"
   ]
  },
  {
   "cell_type": "code",
   "execution_count": 64,
   "metadata": {},
   "outputs": [
    {
     "data": {
      "text/plain": [
       "(array([[ 1. , -1. ,  0. ],\n",
       "        [ 2. ,  2. ,  3. ],\n",
       "        [ 4. ,  3. , -2.5]]),\n",
       " array([-1. ,  3. , -2.5]))"
      ]
     },
     "execution_count": 64,
     "metadata": {},
     "output_type": "execute_result"
    }
   ],
   "source": [
    "A = np.array([[1.0,  -1.0, 0.0],\n",
    "              [2.0, 0.0, 3.0],\n",
    "              [4.0,  -1.0, 2.0]])\n",
    "\n",
    "b = np.array([-1.0, 1.0, -2.0])\n",
    "\n",
    "escalona(A,b)"
   ]
  },
  {
   "cell_type": "markdown",
   "metadata": {
    "slideshow": {
     "slide_type": "slide"
    }
   },
   "source": [
    "## Substituição regressiva"
   ]
  },
  {
   "cell_type": "markdown",
   "metadata": {},
   "source": [
    "$$\n",
    "{\\displaystyle {\\begin{aligned}x_{n}&={\\frac {y_{n}}{u_{nn}}},\\\\x_{n-1}&={\\frac {y_{n-1}-u_{n-1,n}x_{n}}{u_{n-1,n-1}}},\\\\&\\ \\ \\vdots \\\\x_{i}&={\\frac {y_{i}-\\sum _{j=i+1}^{n}u_{ij}x_{j}}{u_{ii}}}.\\\\\n",
    "&\\ \\ \\vdots \\\\\\end{aligned}}}\n",
    "$$"
   ]
  },
  {
   "cell_type": "markdown",
   "metadata": {
    "slideshow": {
     "slide_type": "slide"
    }
   },
   "source": [
    "## Substituição regressiva"
   ]
  },
  {
   "cell_type": "markdown",
   "metadata": {},
   "source": [
    "1: $x_n = y_n / u_{nn}$  \n",
    "2: **para** $i = n - 1$ **até** 1:  \n",
    "3: &emsp;$s = y_i$  \n",
    "4: &emsp;**para** $j = i + 1$ **até** $n$:  \n",
    "5: &emsp;&emsp;$s = s - u_{ij} x_j$  \n",
    "6: &emsp;$x_i  = s / u_{ii}$  "
   ]
  },
  {
   "cell_type": "markdown",
   "metadata": {
    "slideshow": {
     "slide_type": "slide"
    }
   },
   "source": [
    "## Substituição regressiva"
   ]
  },
  {
   "cell_type": "markdown",
   "metadata": {},
   "source": [
    "$$\n",
    "x_{i}={\\frac {y_{i}-\\sum _{j=i+1}^{n}u_{ij}x_{j}}{u_{ii}}}\n",
    "$$"
   ]
  },
  {
   "cell_type": "markdown",
   "metadata": {
    "slideshow": {
     "slide_type": "slide"
    }
   },
   "source": [
    "## Substituição regressiva"
   ]
  },
  {
   "cell_type": "code",
   "execution_count": 65,
   "metadata": {},
   "outputs": [],
   "source": [
    "def substitui(U,y):\n",
    "    n = U.shape[0]\n",
    "    x = np.zeros(y.shape)\n",
    "    x[n-1] = y[n-1]/U[n-1,n-1]\n",
    "    for i in range(n-2,-1,-1):\n",
    "        s = y[i]\n",
    "        for j in range(i+1,n):\n",
    "            s = s - U[i,j]*x[j]\n",
    "        x[i] = s/U[i,i]\n",
    "    \n",
    "    return x"
   ]
  },
  {
   "cell_type": "markdown",
   "metadata": {
    "slideshow": {
     "slide_type": "slide"
    }
   },
   "source": [
    "## Resolvendo um sistema"
   ]
  },
  {
   "cell_type": "code",
   "execution_count": 66,
   "metadata": {},
   "outputs": [],
   "source": [
    "def resolve(A,b):\n",
    "    U,y = escalona(A,b)\n",
    "    return substitui(U,y)"
   ]
  },
  {
   "cell_type": "markdown",
   "metadata": {
    "slideshow": {
     "slide_type": "slide"
    }
   },
   "source": [
    "## Exemplo de substituição"
   ]
  },
  {
   "cell_type": "code",
   "execution_count": 67,
   "metadata": {},
   "outputs": [
    {
     "data": {
      "text/plain": [
       "array([ True,  True,  True])"
      ]
     },
     "execution_count": 67,
     "metadata": {},
     "output_type": "execute_result"
    }
   ],
   "source": [
    "A = np.array([[1.0,  -1.0, 0.0],\n",
    "              [2.0, 0.0, 3.0],\n",
    "              [4.0,  -1.0, 2.0]])\n",
    "\n",
    "b = np.array([-1.0, 1.0, -2.0])\n",
    "\n",
    "x = resolve(A,b)\n",
    "\n",
    "np.dot(A,x) == b"
   ]
  },
  {
   "cell_type": "markdown",
   "metadata": {
    "slideshow": {
     "slide_type": "slide"
    }
   },
   "source": [
    "## Flops"
   ]
  },
  {
   "cell_type": "markdown",
   "metadata": {},
   "source": [
    "O custo de um algoritmo numérico é geralmente mensurado em termos do número de operações aritméticas em ponto flutuante (**flops**)."
   ]
  },
  {
   "cell_type": "markdown",
   "metadata": {
    "slideshow": {
     "slide_type": "slide"
    }
   },
   "source": [
    "## Contando os flops do escalonamento (sem pivotamento)"
   ]
  },
  {
   "cell_type": "code",
   "execution_count": 68,
   "metadata": {},
   "outputs": [],
   "source": [
    "def flops_escalona(n):\n",
    "    m = 0 # contador\n",
    "    for k in range(0,n-1):\n",
    "        for i in range(k+1,n):\n",
    "            m = m + 1 # l = uik/ukk\n",
    "            for j in range(k+1,n):\n",
    "                m = m + 2 # uij = uij - l*ukj\n",
    "            m = m + 2 # yi = yi - l*yk\n",
    "    \n",
    "    return m"
   ]
  },
  {
   "cell_type": "code",
   "execution_count": 69,
   "metadata": {},
   "outputs": [
    {
     "data": {
      "text/plain": [
       "1911"
      ]
     },
     "execution_count": 69,
     "metadata": {},
     "output_type": "execute_result"
    }
   ],
   "source": [
    "flops_escalona(14)"
   ]
  },
  {
   "cell_type": "markdown",
   "metadata": {
    "slideshow": {
     "slide_type": "slide"
    }
   },
   "source": [
    "## Contando os flops do escalonamento (sem pivotamento)"
   ]
  },
  {
   "cell_type": "code",
   "execution_count": 70,
   "metadata": {
    "scrolled": true,
    "slideshow": {
     "slide_type": "skip"
    }
   },
   "outputs": [],
   "source": [
    "from matplotlib import pyplot as plt\n",
    "\n",
    "n = 200\n",
    "flops = np.zeros((n,))\n",
    "for i in range(n):\n",
    "    flops[i] = flops_escalona(i)"
   ]
  },
  {
   "cell_type": "markdown",
   "metadata": {
    "slideshow": {
     "slide_type": "slide"
    }
   },
   "source": [
    "## Contando os flops do escalonamento (sem pivotamento)"
   ]
  },
  {
   "cell_type": "code",
   "execution_count": 71,
   "metadata": {
    "scrolled": true
   },
   "outputs": [
    {
     "data": {
      "text/plain": [
       "[<matplotlib.lines.Line2D at 0x7f05a715e880>]"
      ]
     },
     "execution_count": 71,
     "metadata": {},
     "output_type": "execute_result"
    },
    {
     "data": {
      "image/png": "[encoded data removed]",
      "text/plain": [
       "<Figure size 432x288 with 1 Axes>"
      ]
     },
     "metadata": {
      "needs_background": "light"
     },
     "output_type": "display_data"
    }
   ],
   "source": [
    "plt.plot(flops)"
   ]
  },
  {
   "cell_type": "markdown",
   "metadata": {
    "slideshow": {
     "slide_type": "slide"
    }
   },
   "source": [
    "## Flops"
   ]
  },
  {
   "cell_type": "markdown",
   "metadata": {},
   "source": [
    "Embora os resultados obtidos anteriormente nos dêem uma ideia da curva de crescimento do número de flops, melhor seria se tivermos uma fórmula fechada que nos desse a quantidade de flops."
   ]
  },
  {
   "cell_type": "markdown",
   "metadata": {
    "slideshow": {
     "slide_type": "fragment"
    }
   },
   "source": [
    "Em algumas situações, isso é possível."
   ]
  },
  {
   "cell_type": "markdown",
   "metadata": {
    "slideshow": {
     "slide_type": "slide"
    }
   },
   "source": [
    "## Flops"
   ]
  },
  {
   "cell_type": "markdown",
   "metadata": {},
   "source": [
    "Considere o problema de calcular o produto de uma matriz $\\mathbf{A}_{m \\times n}$  e um vetor $\\mathbf{x}_{n\\times 1}$."
   ]
  },
  {
   "cell_type": "markdown",
   "metadata": {},
   "source": [
    "1: $\\mathbf{b} = \\mathbf{0}$  \n",
    "2: **para** $i = 1$ **até** $m$:  \n",
    "3: &emsp;**para** $j = 1$ **até** $n$:  \n",
    "4: &emsp;&emsp;$b_{i} \\gets b_{i} + a_{ij}x_{j}$  "
   ]
  },
  {
   "cell_type": "markdown",
   "metadata": {
    "slideshow": {
     "slide_type": "fragment"
    }
   },
   "source": [
    "A quantidade de flops fica determinada pela linha 4."
   ]
  },
  {
   "cell_type": "markdown",
   "metadata": {
    "slideshow": {
     "slide_type": "slide"
    }
   },
   "source": [
    "## Flops"
   ]
  },
  {
   "cell_type": "markdown",
   "metadata": {},
   "source": [
    "1: $\\mathbf{b} = \\mathbf{0}$  \n",
    "2: **para** $i = 1$ **até** $m$:  \n",
    "3: &emsp;**para** $j = 1$ **até** $n$:  \n",
    "4: &emsp;&emsp;$b_{i} \\gets b_{i} + a_{ij}x_{j}$  "
   ]
  },
  {
   "cell_type": "markdown",
   "metadata": {},
   "source": [
    "Do laço em $j$, temos"
   ]
  },
  {
   "cell_type": "markdown",
   "metadata": {},
   "source": [
    "$$\\displaystyle\n",
    "{\\color{white}\\sum_{\\color{white}i \\color{white}= \\color{white}1}^{\\color{white}m}}\\sum_{j = 1}^{n} 2 = 2n \\text{ flops}$$"
   ]
  },
  {
   "cell_type": "markdown",
   "metadata": {
    "slideshow": {
     "slide_type": "slide"
    }
   },
   "source": [
    "## Flops"
   ]
  },
  {
   "cell_type": "markdown",
   "metadata": {},
   "source": [
    "1: $\\mathbf{b} = \\mathbf{0}$  \n",
    "2: **para** $i = 1$ **até** $m$:  \n",
    "3: &emsp;**para** $j = 1$ **até** $n$:  \n",
    "4: &emsp;&emsp;$b_{i} \\gets b_{i} + a_{ij}x_{j}$  "
   ]
  },
  {
   "cell_type": "markdown",
   "metadata": {},
   "source": [
    "Considerando agora o laço em $i$, obtemos"
   ]
  },
  {
   "cell_type": "markdown",
   "metadata": {},
   "source": [
    "$$\\displaystyle\\sum_{i = 1}^{m}\\sum_{j = 1}^{n} 2 = 2mn = O(mn) \\text{ flops}$$"
   ]
  },
  {
   "cell_type": "markdown",
   "metadata": {
    "slideshow": {
     "slide_type": "slide"
    }
   },
   "source": [
    "## Custo do escalonamento (sem pivotamento)"
   ]
  },
  {
   "cell_type": "markdown",
   "metadata": {},
   "source": [
    "Procedendo de modo análogo para o algoritmo do escalonamento,"
   ]
  },
  {
   "cell_type": "markdown",
   "metadata": {},
   "source": [
    "1: $\\mathbf{y} = \\mathbf{b}$  \n",
    "2: $\\mathbf{U} = \\mathbf{A}$  \n",
    "3: **para** $k = 1$ **até** $n - 1$:  \n",
    "4: &emsp;**para** $i = k+1$ **até** $n$:  \n",
    "5: &emsp;&emsp;$\\ell = u_{ik} / u_{kk}$  \n",
    "6: &emsp;&emsp;**para** $j = k+1$ **até** $n$  \n",
    "7: &emsp;&emsp;&emsp;$u_{ij} = u_{ij} - \\ell u_{kj}$  \n",
    "8: &emsp;&emsp;$y_{i} = y_{i} - \\ell y_{k}$  "
   ]
  },
  {
   "cell_type": "markdown",
   "metadata": {
    "slideshow": {
     "slide_type": "slide"
    }
   },
   "source": [
    "## Custo do escalonamento (sem pivotamento)"
   ]
  },
  {
   "cell_type": "markdown",
   "metadata": {},
   "source": [
    "obtemos o total de flops:"
   ]
  },
  {
   "cell_type": "markdown",
   "metadata": {},
   "source": [
    "$$\n",
    "\\underbrace{\\sum_{k=1}^{n-1}\\sum_{i=k+1}^{n} 1}_{\\text{linha }5} + \n",
    "\\underbrace{\\sum_{k=1}^{n-1}\\sum_{i=k+1}^{n}\\sum_{j=k+1}^{n} 2}_{\\text{linha }7} + \n",
    "\\underbrace{\\sum_{k=1}^{n-1}\\sum_{i=k+1}^{n} 2}_{\\text{linha }8}\n",
    "$$"
   ]
  },
  {
   "cell_type": "markdown",
   "metadata": {
    "slideshow": {
     "slide_type": "slide"
    }
   },
   "source": [
    "## Custo do escalonamento (sem pivotamento)"
   ]
  },
  {
   "cell_type": "markdown",
   "metadata": {},
   "source": [
    "$$\n",
    "\\underbrace{\\frac{1}{2} n(n - 1)}_{\\text{linha }5} + \n",
    "\\underbrace{\\frac{1}{3} (n - 1) n (2 n - 1)}_{\\text{linha }7} +\n",
    "\\underbrace{n(n - 1)}_{\\text{linha }8} =\n",
    "O(n^3)\n",
    "$$"
   ]
  },
  {
   "cell_type": "markdown",
   "metadata": {
    "slideshow": {
     "slide_type": "slide"
    }
   },
   "source": [
    "## Custo da substituição regressiva"
   ]
  },
  {
   "cell_type": "markdown",
   "metadata": {},
   "source": [
    "1: $x_n = y_n / u_{nn}$  \n",
    "2: **para** $i = n - 1$ **até** 1:  \n",
    "3: &emsp;$s = y_i$  \n",
    "4: &emsp;**para** $j = i + 1$ **até** $n$:  \n",
    "5: &emsp;&emsp;$s = s - u_{ij} x_j$  \n",
    "6: &emsp;$x_i  = s / u_{ii}$  "
   ]
  },
  {
   "cell_type": "markdown",
   "metadata": {
    "slideshow": {
     "slide_type": "slide"
    }
   },
   "source": [
    "## Custo da substituição regressiva"
   ]
  },
  {
   "cell_type": "markdown",
   "metadata": {},
   "source": [
    "$$\n",
    "\\underbrace{\\sum_{i=1}^{n-1}\\sum_{j=i+1}^{n} 2}_{\\text{linha }5} + \n",
    "\\underbrace{\\sum_{i=1}^{n-1} 1}_{\\text{linha }6} =\n",
    "\\underbrace{n(n-1)}_{\\text{linha }5} + \n",
    "\\underbrace{n-1}_{\\text{linha }6} = O(n^2)\n",
    "$$"
   ]
  },
  {
   "cell_type": "markdown",
   "metadata": {
    "slideshow": {
     "slide_type": "slide"
    }
   },
   "source": [
    "## Escalonamento usando fatiamento"
   ]
  },
  {
   "cell_type": "markdown",
   "metadata": {},
   "source": [
    "A NumPy possui diversas funções otimizadas para o cálculo de operações matemáticas sobre arranjos.\n",
    "A funcionalidade de fatiamento é uma delas."
   ]
  },
  {
   "cell_type": "code",
   "execution_count": 72,
   "metadata": {},
   "outputs": [],
   "source": [
    "def escalona_fatiado(A,b):\n",
    "    n = A.shape[0]\n",
    "    U = A.copy()\n",
    "    y = b.copy()\n",
    "    for k in range(0,n-1):\n",
    "        for i in range(k+1,n): # linha i\n",
    "            l = U[i,k]/U[k,k]\n",
    "            #for j in range(k+1,n): # colunas da linha i\n",
    "            #    U[i,j] = U[i,j] - l*U[k,j]\n",
    "            U[i,k+1:n] = U[i,k+1:n] - l*U[k,k+1:n]\n",
    "            y[i] = y[i] - l*y[k]\n",
    "    \n",
    "    return U,y"
   ]
  },
  {
   "cell_type": "markdown",
   "metadata": {
    "slideshow": {
     "slide_type": "slide"
    }
   },
   "source": [
    "## Substituição usando fatiamento"
   ]
  },
  {
   "cell_type": "markdown",
   "metadata": {},
   "source": [
    "Assim como no escalonamento, também pe possível otimizarmos o código da substituição."
   ]
  },
  {
   "cell_type": "code",
   "execution_count": 73,
   "metadata": {},
   "outputs": [],
   "source": [
    "def substitui_fatiado(U,y):\n",
    "    n = U.shape[0]\n",
    "    x = y.copy()\n",
    "    x[n-1] = x[n-1]/U[n-1,n-1]\n",
    "    for i in range(n-2,-1,-1):\n",
    "        #for j in range(i+1,n):\n",
    "        #    s = s - U[i,j]*x[j]\n",
    "        #x[i] = s/U[i,i]\n",
    "        x[i] = (x[i] - np.dot(U[i,i+1:n],x[i+1:n]))/U[i,i]\n",
    "    return x"
   ]
  },
  {
   "cell_type": "markdown",
   "metadata": {
    "slideshow": {
     "slide_type": "slide"
    }
   },
   "source": [
    "## Resolvendo sistema com fatiamento"
   ]
  },
  {
   "cell_type": "code",
   "execution_count": 74,
   "metadata": {},
   "outputs": [],
   "source": [
    "def resolve_fatiado(A,b):\n",
    "    U,y = escalona_fatiado(A,b)\n",
    "    return substitui_fatiado(U,y)"
   ]
  },
  {
   "cell_type": "markdown",
   "metadata": {
    "slideshow": {
     "slide_type": "slide"
    }
   },
   "source": [
    "## Substituição usando fatiamento"
   ]
  },
  {
   "cell_type": "code",
   "execution_count": 75,
   "metadata": {},
   "outputs": [
    {
     "data": {
      "text/plain": [
       "array([ True,  True,  True])"
      ]
     },
     "execution_count": 75,
     "metadata": {},
     "output_type": "execute_result"
    }
   ],
   "source": [
    "A = np.array([[1.0,  -1.0, 0.0],\n",
    "              [2.0, 0.0, 3.0],\n",
    "              [4.0,  -1.0, 2.0]])\n",
    "\n",
    "b = np.array([-1.0, 1.0, -2.0])\n",
    "\n",
    "resolve_fatiado(A,b)\n",
    "\n",
    "np.dot(A,x) == b"
   ]
  },
  {
   "cell_type": "markdown",
   "metadata": {
    "slideshow": {
     "slide_type": "slide"
    }
   },
   "source": [
    "## Com x Sem fatiamento"
   ]
  },
  {
   "cell_type": "code",
   "execution_count": 76,
   "metadata": {},
   "outputs": [],
   "source": [
    "n = 256 # número de linhas/colunas\n",
    "\n",
    "# Gera uma matriz não singular n x n\n",
    "A = np.random.rand(n)\n",
    "A = 0.5 * (A + A.T) # A é simétrica\n",
    "A = A + (n * np.eye(n)) # A positiva definida\n",
    "\n",
    "# Gera um vetor independente aleatório\n",
    "b = np.random.rand(n,1)"
   ]
  },
  {
   "cell_type": "markdown",
   "metadata": {
    "slideshow": {
     "slide_type": "slide"
    }
   },
   "source": [
    "## Com x Sem fatiamento"
   ]
  },
  {
   "cell_type": "code",
   "execution_count": 77,
   "metadata": {},
   "outputs": [
    {
     "name": "stdout",
     "output_type": "stream",
     "text": [
      "CPU times: user 8.09 s, sys: 424 ms, total: 8.51 s\n",
      "Wall time: 8 s\n"
     ]
    }
   ],
   "source": [
    "%%time\n",
    "U,y = escalona(A,b) # Cython"
   ]
  },
  {
   "cell_type": "code",
   "execution_count": 78,
   "metadata": {},
   "outputs": [
    {
     "name": "stdout",
     "output_type": "stream",
     "text": [
      "CPU times: user 1.19 s, sys: 134 ms, total: 1.33 s\n",
      "Wall time: 1.18 s\n"
     ]
    }
   ],
   "source": [
    "%%time\n",
    "U,y = escalona_fatiado(A,b) # Pythonico"
   ]
  },
  {
   "cell_type": "markdown",
   "metadata": {
    "slideshow": {
     "slide_type": "slide"
    }
   },
   "source": [
    "## Decomposição LU (sem pivotamento)"
   ]
  },
  {
   "cell_type": "markdown",
   "metadata": {},
   "source": [
    "1: $\\mathbf{U} = \\mathbf{A}$  \n",
    "2: **para** $k = 1$ **até** $n - 1$:  \n",
    "3: &emsp;**para** $i = k+1$ **até** $n$:  \n",
    "4: &emsp;&emsp;$\\ell = u_{ik} / u_{kk}$  \n",
    "5: &emsp;&emsp;**para** $j = k+1$ **até** $n$  \n",
    "6: &emsp;&emsp;&emsp;$u_{ij} = u_{ij} - \\ell u_{kj}$  "
   ]
  },
  {
   "cell_type": "markdown",
   "metadata": {
    "slideshow": {
     "slide_type": "slide"
    }
   },
   "source": [
    "## Decomposição LU (sem pivotamento)"
   ]
  },
  {
   "cell_type": "markdown",
   "metadata": {},
   "source": [
    "1: $\\mathbf{U} = \\mathbf{A}$  \n",
    "2: **para** $k = 1$ **até** $n - 1$:  \n",
    "3: &emsp;**para** $i = k+1$ **até** $n$:  \n",
    "4: &emsp;&emsp;$\\ell = u_{ik} / u_{kk}$  \n",
    "5: &emsp;&emsp;**para** $j = k+1$ **até** $n$  \n",
    "6: &emsp;&emsp;&emsp;$u_{ij} = u_{ij} - \\ell u_{kj}$  \n",
    "7: &emsp;&emsp;$u_{ik} = \\ell$  "
   ]
  },
  {
   "cell_type": "markdown",
   "metadata": {
    "slideshow": {
     "slide_type": "slide"
    }
   },
   "source": [
    "## Decomposição LU (sem pivotamento)"
   ]
  },
  {
   "cell_type": "code",
   "execution_count": 79,
   "metadata": {},
   "outputs": [],
   "source": [
    "def lu(A):\n",
    "    n = A.shape[0]\n",
    "    U = A.copy()\n",
    "    for k in range(n-1):\n",
    "        for i in range(k+1,n):\n",
    "            l = U[i,k]/U[k,k]\n",
    "            U[i,k+1:n] = U[i,k+1:n] - l*U[k,k+1:n]\n",
    "            U[i,k] = l\n",
    "    return U"
   ]
  },
  {
   "cell_type": "markdown",
   "metadata": {
    "slideshow": {
     "slide_type": "slide"
    }
   },
   "source": [
    "## Decomposição LU (sem pivotamento)"
   ]
  },
  {
   "cell_type": "code",
   "execution_count": 80,
   "metadata": {},
   "outputs": [
    {
     "data": {
      "text/plain": [
       "array([[ 4.  ,  6.  , 10.  ],\n",
       "       [ 1.5 , 16.  ,  4.  ],\n",
       "       [ 2.5 ,  0.25, 36.  ]])"
      ]
     },
     "execution_count": 80,
     "metadata": {},
     "output_type": "execute_result"
    }
   ],
   "source": [
    "A = np.array([[4.0,  6.0, 10.0],\n",
    "              [6.0, 25.0, 19.0],\n",
    "              [10.0,  19.0, 62.0]])\n",
    "\n",
    "B = lu(A) # decomposição LU na forma compacta\n",
    "B"
   ]
  },
  {
   "cell_type": "markdown",
   "metadata": {
    "slideshow": {
     "slide_type": "slide"
    }
   },
   "source": [
    "## Decomposição LU (sem pivotamento)"
   ]
  },
  {
   "cell_type": "code",
   "execution_count": 81,
   "metadata": {},
   "outputs": [
    {
     "data": {
      "text/plain": [
       "array([[1.  , 0.  , 0.  ],\n",
       "       [1.5 , 1.  , 0.  ],\n",
       "       [2.5 , 0.25, 1.  ]])"
      ]
     },
     "execution_count": 81,
     "metadata": {},
     "output_type": "execute_result"
    }
   ],
   "source": [
    "L = np.tril(B,-1) + np.eye(A.shape[0])\n",
    "L"
   ]
  },
  {
   "cell_type": "markdown",
   "metadata": {
    "slideshow": {
     "slide_type": "slide"
    }
   },
   "source": [
    "## Decomposição LU (sem pivotamento)"
   ]
  },
  {
   "cell_type": "code",
   "execution_count": 82,
   "metadata": {},
   "outputs": [
    {
     "data": {
      "text/plain": [
       "array([[ 4.,  6., 10.],\n",
       "       [ 0., 16.,  4.],\n",
       "       [ 0.,  0., 36.]])"
      ]
     },
     "execution_count": 82,
     "metadata": {},
     "output_type": "execute_result"
    }
   ],
   "source": [
    "U = np.triu(B)\n",
    "U"
   ]
  },
  {
   "cell_type": "markdown",
   "metadata": {
    "slideshow": {
     "slide_type": "slide"
    }
   },
   "source": [
    "## Decomposição LU (sem pivotamento)"
   ]
  },
  {
   "cell_type": "code",
   "execution_count": 83,
   "metadata": {},
   "outputs": [
    {
     "data": {
      "text/plain": [
       "array([[ True,  True,  True],\n",
       "       [ True,  True,  True],\n",
       "       [ True,  True,  True]])"
      ]
     },
     "execution_count": 83,
     "metadata": {},
     "output_type": "execute_result"
    }
   ],
   "source": [
    "A == np.dot(L,U)"
   ]
  },
  {
   "cell_type": "markdown",
   "metadata": {
    "slideshow": {
     "slide_type": "slide"
    }
   },
   "source": [
    "## Custo da decomposição LU (sem pivotamento)"
   ]
  },
  {
   "cell_type": "markdown",
   "metadata": {},
   "source": [
    "Como a decomposição LU requer a realização do escalonamento, inevitavelmente seu custo é $O(n^3)$."
   ]
  },
  {
   "cell_type": "markdown",
   "metadata": {
    "slideshow": {
     "slide_type": "slide"
    }
   },
   "source": [
    "## Resolvendo um sistema com a decomposição LU"
   ]
  },
  {
   "cell_type": "code",
   "execution_count": 84,
   "metadata": {},
   "outputs": [],
   "source": [
    "def lu_resolve(A,b):\n",
    "    n = A.shape[0]\n",
    "    U = lu(A) # forma compacta da decomposição LU\n",
    "    x = b.copy()\n",
    "    # substituição progressiva: Ly = b\n",
    "    for i in range(1,n):\n",
    "        x[i] = x[i] - np.dot(U[i,0:i],x[0:i])\n",
    "       \n",
    "    # substituição regressiva: Ux = y\n",
    "    x[n-1] = x[n-1]/U[n-1,n-1]\n",
    "    for i in range(n-2,-1,-1):\n",
    "        x[i] = (x[i] - np.dot(U[i,i+1:n],x[i+1:n]))/U[i,i]\n",
    "\n",
    "    return x"
   ]
  },
  {
   "cell_type": "markdown",
   "metadata": {
    "slideshow": {
     "slide_type": "slide"
    }
   },
   "source": [
    "## Resolvendo um sistema com a decomposição LU"
   ]
  },
  {
   "cell_type": "code",
   "execution_count": 85,
   "metadata": {},
   "outputs": [
    {
     "data": {
      "text/plain": [
       "array([-1.,  0.,  1.])"
      ]
     },
     "execution_count": 85,
     "metadata": {},
     "output_type": "execute_result"
    }
   ],
   "source": [
    "A = np.array([[1.0,  -1.0, 0.0],\n",
    "              [2.0, 0.0, 3.0],\n",
    "              [4.0,  -1.0, 2.0]])\n",
    "\n",
    "b = np.array([-1.0, 1.0, -2.0])\n",
    "\n",
    "lu_resolve(A,b)"
   ]
  },
  {
   "cell_type": "markdown",
   "metadata": {
    "slideshow": {
     "slide_type": "slide"
    }
   },
   "source": [
    "## Decomposição LU (com pivotamento)"
   ]
  },
  {
   "cell_type": "code",
   "execution_count": 86,
   "metadata": {},
   "outputs": [],
   "source": [
    "def plu(A):\n",
    "    n = A.shape[0]\n",
    "    U = A.copy()\n",
    "    p = np.arange(n) # vetor de permutação inicial\n",
    "    for k in range(n-1):\n",
    "        # escolhe pivô para a coluna k (pivotamento parcial simples)\n",
    "        j = np.argmax(abs(U[p[k:n],k])) + k\n",
    "        # atualiza vetor de permutação\n",
    "        p[k], p[j] = p[j], p[k]\n",
    "        \n",
    "        for i in range(k+1,n): # atualizamos a linha p[i]\n",
    "            l = U[p[i],k]/U[p[k],k]\n",
    "            U[p[i],k+1:n] = U[p[i],k+1:n] - l*U[p[k],k+1:n]\n",
    "            U[p[i],k] = l\n",
    "            \n",
    "    return U,p"
   ]
  },
  {
   "cell_type": "markdown",
   "metadata": {
    "slideshow": {
     "slide_type": "slide"
    }
   },
   "source": [
    "## Decomposição LU (com pivotamento)"
   ]
  },
  {
   "cell_type": "code",
   "execution_count": 87,
   "metadata": {},
   "outputs": [
    {
     "data": {
      "text/plain": [
       "(array([[0., 0., 1.],\n",
       "        [1., 0., 0.],\n",
       "        [0., 1., 0.]]),\n",
       " array([[ 1.        ,  0.        ,  0.        ],\n",
       "        [ 0.25      ,  1.        ,  0.        ],\n",
       "        [ 0.5       , -0.66666667,  1.        ]]),\n",
       " array([[ 4.        , -1.        ,  2.        ],\n",
       "        [ 0.        , -0.75      , -0.5       ],\n",
       "        [ 0.        ,  0.        ,  1.66666667]]))"
      ]
     },
     "execution_count": 87,
     "metadata": {},
     "output_type": "execute_result"
    }
   ],
   "source": [
    "A = np.array([[1.0,  -1.0, 0.0],\n",
    "              [2.0, 0.0, 3.0],\n",
    "              [4.0,  -1.0, 2.0]])\n",
    "\n",
    "U,p = plu(A)\n",
    "L = np.tril(U[p],-1) + np.eye(U.shape[0])\n",
    "U = np.triu(U[p])\n",
    "P = np.eye(3)\n",
    "P[p],L,U"
   ]
  },
  {
   "cell_type": "markdown",
   "metadata": {
    "slideshow": {
     "slide_type": "slide"
    }
   },
   "source": [
    "## Resolvendo um sistema com a decomposição LU"
   ]
  },
  {
   "cell_type": "code",
   "execution_count": 88,
   "metadata": {},
   "outputs": [],
   "source": [
    "def plu_resolve(A,b):\n",
    "    n = A.shape[0]\n",
    "    U,p = plu(A)\n",
    "    # Ly = Pb\n",
    "    y = np.zeros(b.shape)\n",
    "    y[0] = b[p[0]]\n",
    "    for i in range(1,n):\n",
    "        y[i] = b[p[i]] - np.dot(U[p[i],0:i],y[0:i])\n",
    "        \n",
    "    # Ux = y\n",
    "    x = np.zeros(b.shape)\n",
    "    x[n-1] = y[n-1]/U[p[n-1],n-1]\n",
    "    for i in range(n-2,-1,-1):\n",
    "        x[i] = (y[i] - np.dot(U[p[i],i+1:n],x[i+1:n]))/U[p[i],i]\n",
    "        \n",
    "    return x"
   ]
  },
  {
   "cell_type": "markdown",
   "metadata": {
    "slideshow": {
     "slide_type": "slide"
    }
   },
   "source": [
    "## Resolvendo um sistema com a decomposição LU"
   ]
  },
  {
   "cell_type": "code",
   "execution_count": 89,
   "metadata": {},
   "outputs": [
    {
     "data": {
      "text/plain": [
       "array([-1., -0.,  1.])"
      ]
     },
     "execution_count": 89,
     "metadata": {},
     "output_type": "execute_result"
    }
   ],
   "source": [
    "A = np.array([[1.0,  -1.0, 0.0],\n",
    "              [2.0, 0.0, 3.0],\n",
    "              [4.0,  -1.0, 2.0]])\n",
    "\n",
    "b = np.array([-1.0, 1.0, -2.0])\n",
    "\n",
    "\n",
    "plu_resolve(A,b)"
   ]
  },
  {
   "cell_type": "markdown",
   "metadata": {
    "slideshow": {
     "slide_type": "slide"
    }
   },
   "source": [
    "<br>\n",
    "&copy; 2021 Vicente Helano<br>\n",
    "UFCA | Centro de Ciências e Tecnologia"
   ]
  }
 ],
 "metadata": {
  "celltoolbar": "Slideshow",
  "kernelspec": {
   "display_name": "Python 3 (ipykernel)",
   "language": "python",
   "name": "python3"
  },
  "language_info": {
   "codemirror_mode": {
    "name": "ipython",
    "version": 3
   },
   "file_extension": ".py",
   "mimetype": "text/x-python",
   "name": "python",
   "nbconvert_exporter": "python",
   "pygments_lexer": "ipython3",
   "version": "3.9.2"
  },
  "rise": {
   "center": false,
   "disableLayout": true,
   "history": true,
   "navigationMode": "linear",
   "transition": "none"
  }
 },
 "nbformat": 4,
 "nbformat_minor": 4
}
