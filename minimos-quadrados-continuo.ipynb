{
 "cells": [
  {
   "cell_type": "markdown",
   "metadata": {},
   "source": [
    "# Mínimos quadrados contínuo"
   ]
  },
  {
   "cell_type": "markdown",
   "metadata": {},
   "source": [
    "<br>"
   ]
  },
  {
   "cell_type": "markdown",
   "metadata": {},
   "source": [
    "Vicente Helano  \n",
    "UFCA | Centro de Ciências e Tecnologia"
   ]
  },
  {
   "cell_type": "markdown",
   "metadata": {
    "slideshow": {
     "slide_type": "slide"
    }
   },
   "source": [
    "## Método de Hörner"
   ]
  },
  {
   "cell_type": "markdown",
   "metadata": {},
   "source": [
    "Para avaliar o polinômio escrito na base monomial, usamos o [método de Hörner](https://pt.wikipedia.org/wiki/Esquema_de_Horner):"
   ]
  },
  {
   "cell_type": "code",
   "execution_count": null,
   "metadata": {},
   "outputs": [],
   "source": [
    "def avalia_monomial(c,t):\n",
    "    n = c.size - 1\n",
    "    s = c[n]*t\n",
    "    for j in range(n-1,0,-1):\n",
    "        s = (c[j] + s)*t\n",
    "        \n",
    "    return s + c[0]"
   ]
  },
  {
   "cell_type": "markdown",
   "metadata": {
    "slideshow": {
     "slide_type": "slide"
    }
   },
   "source": [
    "## Ajuste polinomial contínuo"
   ]
  },
  {
   "cell_type": "markdown",
   "metadata": {},
   "source": [
    "Consideremos o produto interno entre duas funções $f$ e $g$ definidas em um intervalo $[a,b]$ como sendo a integral:"
   ]
  },
  {
   "cell_type": "markdown",
   "metadata": {},
   "source": [
    "$$\n",
    "\\langle f,g\\rangle = \\int_a^b f(x)g(x)\\operatorname{d}\\!x\n",
    "$$"
   ]
  },
  {
   "cell_type": "markdown",
   "metadata": {
    "slideshow": {
     "slide_type": "slide"
    }
   },
   "source": [
    "## Ajuste polinomial contínuo"
   ]
  },
  {
   "cell_type": "code",
   "execution_count": null,
   "metadata": {},
   "outputs": [],
   "source": [
    "from numpy import linalg as la\n",
    "import numpy as np\n",
    "import matplotlib.pyplot as plt"
   ]
  },
  {
   "cell_type": "markdown",
   "metadata": {
    "slideshow": {
     "slide_type": "slide"
    }
   },
   "source": [
    "## Ajuste polinomial contínuo"
   ]
  },
  {
   "cell_type": "markdown",
   "metadata": {},
   "source": [
    "Para avaliarmos produtos internos como esse, utilizaremos o [método de Trapézio](https://pt.wikipedia.org/wiki/Integra%C3%A7%C3%A3o_num%C3%A9rica):"
   ]
  },
  {
   "cell_type": "code",
   "execution_count": null,
   "metadata": {},
   "outputs": [],
   "source": [
    "def trapezio(f,a,b,n=1024):\n",
    "    h = (b-a)/n\n",
    "    s = 0.0\n",
    "    for i in range(1,n):\n",
    "        s = s + f(a + i*h)\n",
    "        \n",
    "    return 0.5*h*( f(a) + 2*s + f(b) )"
   ]
  },
  {
   "cell_type": "markdown",
   "metadata": {
    "slideshow": {
     "slide_type": "slide"
    }
   },
   "source": [
    "## Ajuste polinomial contínuo"
   ]
  },
  {
   "cell_type": "markdown",
   "metadata": {},
   "source": [
    "$\\langle x, e^x \\rangle = \\int_0^1 x e^x dx$"
   ]
  },
  {
   "cell_type": "code",
   "execution_count": null,
   "metadata": {},
   "outputs": [],
   "source": [
    "def f(x):\n",
    "    return x\n",
    "\n",
    "def g(x):\n",
    "    return np.exp(x)"
   ]
  },
  {
   "cell_type": "code",
   "execution_count": null,
   "metadata": {},
   "outputs": [],
   "source": [
    "fg = lambda x: f(x)*g(x)\n",
    "\n",
    "trapezio(fg,0,1)"
   ]
  },
  {
   "cell_type": "markdown",
   "metadata": {
    "slideshow": {
     "slide_type": "slide"
    }
   },
   "source": [
    "## Ajuste contínuo monomial"
   ]
  },
  {
   "cell_type": "code",
   "execution_count": null,
   "metadata": {},
   "outputs": [],
   "source": [
    "def matriz_monomial(f,a,b,n):\n",
    "    AtA = np.zeros((n+1,n+1))\n",
    "    \n",
    "    for i in range(n+1):\n",
    "        for j in range(n+1):\n",
    "            wiwj = lambda x: x**i * x**j            \n",
    "            AtA[i,j] = trapezio(wiwj,a,b)\n",
    "        \n",
    "    return AtA\n",
    "\n",
    "def vetor_monomial(f,a,b,n):\n",
    "    Atf = np.zeros((n+1,))\n",
    "    \n",
    "    for i in range(n+1):\n",
    "        wif = lambda x: x**i * f(x)\n",
    "        Atf[i] = trapezio(wif,a,b)\n",
    "        \n",
    "    return Atf\n",
    "\n",
    "def ajuste_continuo_monomial(f,a,b,n):\n",
    "    AtA = matriz_monomial(f,a,b,n)\n",
    "    Atb = vetor_monomial(f,a,b,n)\n",
    "        \n",
    "    return la.solve(AtA,Atb)"
   ]
  },
  {
   "cell_type": "markdown",
   "metadata": {
    "slideshow": {
     "slide_type": "slide"
    }
   },
   "source": [
    "## Ajuste contínuo monomial"
   ]
  },
  {
   "cell_type": "code",
   "execution_count": null,
   "metadata": {},
   "outputs": [],
   "source": [
    "def f(x):\n",
    "    return np.exp(x)"
   ]
  },
  {
   "cell_type": "code",
   "execution_count": null,
   "metadata": {
    "scrolled": true
   },
   "outputs": [],
   "source": [
    "matriz_monomial(f,0,1,1)"
   ]
  },
  {
   "cell_type": "code",
   "execution_count": null,
   "metadata": {},
   "outputs": [],
   "source": [
    "vetor_monomial(f,0,1,1)"
   ]
  },
  {
   "cell_type": "markdown",
   "metadata": {
    "slideshow": {
     "slide_type": "slide"
    }
   },
   "source": [
    "## Ajuste contínuo monomial"
   ]
  },
  {
   "cell_type": "code",
   "execution_count": null,
   "metadata": {},
   "outputs": [],
   "source": [
    "def f(x):\n",
    "    return np.exp(x)"
   ]
  },
  {
   "cell_type": "code",
   "execution_count": null,
   "metadata": {
    "scrolled": true
   },
   "outputs": [],
   "source": [
    "c = ajuste_continuo_monomial(f,0,1,1)\n",
    "c"
   ]
  },
  {
   "cell_type": "code",
   "execution_count": null,
   "metadata": {
    "scrolled": false
   },
   "outputs": [],
   "source": [
    "fig,ax = plt.subplots()\n",
    "\n",
    "# desenhando os gráficos de f e P\n",
    "x = np.linspace(0,1,100)\n",
    "y = np.zeros(x.shape)\n",
    "for i in range(y.size):\n",
    "    y[i] = avalia_monomial(c,x[i])\n",
    "\n",
    "ax.plot(x,y, x,f(x),linewidth=2)\n",
    "\n",
    "plt.show()"
   ]
  },
  {
   "cell_type": "markdown",
   "metadata": {
    "slideshow": {
     "slide_type": "slide"
    }
   },
   "source": [
    "Vicente Helano  \n",
    "UFCA | Centro de Ciências e Tecnologia"
   ]
  }
 ],
 "metadata": {
  "celltoolbar": "Slideshow",
  "kernelspec": {
   "display_name": "Python 3 (ipykernel)",
   "language": "python",
   "name": "python3"
  },
  "language_info": {
   "codemirror_mode": {
    "name": "ipython",
    "version": 3
   },
   "file_extension": ".py",
   "mimetype": "text/x-python",
   "name": "python",
   "nbconvert_exporter": "python",
   "pygments_lexer": "ipython3",
   "version": "3.9.2"
  }
 },
 "nbformat": 4,
 "nbformat_minor": 4
}
