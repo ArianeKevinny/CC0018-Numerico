{
 "cells": [
  {
   "cell_type": "markdown",
   "metadata": {},
   "source": [
    "# Mínimos quadrados discreto"
   ]
  },
  {
   "cell_type": "markdown",
   "metadata": {},
   "source": [
    "<br>"
   ]
  },
  {
   "cell_type": "markdown",
   "metadata": {},
   "source": [
    "Vicente Helano  \n",
    "UFCA | Centro de Ciências e Tecnologia"
   ]
  },
  {
   "cell_type": "markdown",
   "metadata": {
    "slideshow": {
     "slide_type": "slide"
    }
   },
   "source": [
    "## Ajuste polinomial discreto"
   ]
  },
  {
   "cell_type": "markdown",
   "metadata": {},
   "source": [
    "O modo mais simples de implementarmos o ajuste polinomial discreto é por intermédio da equação normal $\\mathbf{A}^\\intercal\\mathbf{A}\\mathbf{x} = \\mathbf{A}^\\intercal\\mathbf{b}$."
   ]
  },
  {
   "cell_type": "code",
   "execution_count": null,
   "metadata": {},
   "outputs": [],
   "source": [
    "from numpy import linalg as la\n",
    "import numpy as np\n",
    "import matplotlib.pyplot as plt"
   ]
  },
  {
   "cell_type": "markdown",
   "metadata": {
    "slideshow": {
     "slide_type": "slide"
    }
   },
   "source": [
    "## Ajuste polinomial discreto"
   ]
  },
  {
   "cell_type": "markdown",
   "metadata": {},
   "source": [
    "Vejamos um exemplo de ajuste cúbico para relembrar a forma da equação normal."
   ]
  },
  {
   "cell_type": "markdown",
   "metadata": {
    "slideshow": {
     "slide_type": "slide"
    }
   },
   "source": [
    "## Ajuste polinomial discreto"
   ]
  },
  {
   "cell_type": "markdown",
   "metadata": {},
   "source": [
    "Podemos dividir o procedimento de ajuste discreto nas seguintes etapas:"
   ]
  },
  {
   "cell_type": "markdown",
   "metadata": {
    "slideshow": {
     "slide_type": "fragment"
    }
   },
   "source": [
    "1. Montagem do sistema $\\mathbf{A}\\mathbf{x} = \\mathbf{b}$, com $m$ equações e $n < m$ incógnitas;"
   ]
  },
  {
   "cell_type": "markdown",
   "metadata": {
    "slideshow": {
     "slide_type": "fragment"
    }
   },
   "source": [
    "2. Construção da equação normal $\\mathbf{A}^\\intercal\\mathbf{A}\\mathbf{x} = \\mathbf{A}^\\intercal\\mathbf{b}$, com $n$ equações e $n$ incógnitas;"
   ]
  },
  {
   "cell_type": "markdown",
   "metadata": {
    "slideshow": {
     "slide_type": "fragment"
    }
   },
   "source": [
    "3. Resolução da equação normal."
   ]
  },
  {
   "cell_type": "markdown",
   "metadata": {
    "slideshow": {
     "slide_type": "slide"
    }
   },
   "source": [
    "## Ajuste polinomial discreto"
   ]
  },
  {
   "cell_type": "markdown",
   "metadata": {
    "slideshow": {
     "slide_type": "-"
    }
   },
   "source": [
    "1. Montagem do sistema $\\mathbf{A}\\mathbf{x} = \\mathbf{b}$, com $m$ equações e $n < m$ incógnitas;"
   ]
  },
  {
   "cell_type": "code",
   "execution_count": null,
   "metadata": {},
   "outputs": [],
   "source": [
    "def sistema_impossivel(x,y,n):\n",
    "    # Monta a matriz do sistema m x n (impossível)\n",
    "    m = x.size\n",
    "    A = np.ones((m,n+1)) # primeira coluna fica pronta\n",
    "    for j in range(1,n+1):\n",
    "        A[:,j] = x**j\n",
    "        \n",
    "    # Monta o vetor independente\n",
    "    b = y[:]\n",
    "        \n",
    "    return A,b"
   ]
  },
  {
   "cell_type": "code",
   "execution_count": null,
   "metadata": {
    "slideshow": {
     "slide_type": "fragment"
    }
   },
   "outputs": [],
   "source": [
    "# Exemplo\n",
    "x = np.array([1.0, 2, 3, 4])\n",
    "y = np.array([0.0, 1, 1, 2])\n",
    "\n",
    "sistema_impossivel(x,y,1)"
   ]
  },
  {
   "cell_type": "markdown",
   "metadata": {
    "slideshow": {
     "slide_type": "slide"
    }
   },
   "source": [
    "## Ajuste polinomial discreto"
   ]
  },
  {
   "cell_type": "markdown",
   "metadata": {
    "slideshow": {
     "slide_type": "-"
    }
   },
   "source": [
    "2. Construção da equação normal $\\mathbf{A}^\\intercal\\mathbf{A}\\mathbf{x} = \\mathbf{A}^\\intercal\\mathbf{b}$, com $n$ equações e $n$ incógnitas;"
   ]
  },
  {
   "cell_type": "code",
   "execution_count": null,
   "metadata": {},
   "outputs": [],
   "source": [
    "def equacao_normal(x,y,n):\n",
    "    A,b = sistema_impossivel(x,y,n)\n",
    "        \n",
    "    At = np.transpose(A)\n",
    "    AtA = np.dot(At,A)\n",
    "    Atb = np.dot(At,b)\n",
    "        \n",
    "    return AtA,Atb"
   ]
  },
  {
   "cell_type": "code",
   "execution_count": null,
   "metadata": {
    "slideshow": {
     "slide_type": "fragment"
    }
   },
   "outputs": [],
   "source": [
    "# Exemplo\n",
    "x = np.array([1.0, 2, 3, 4])\n",
    "y = np.array([0.0, 1, 1, 2])\n",
    "\n",
    "equacao_normal(x,y,1)"
   ]
  },
  {
   "cell_type": "markdown",
   "metadata": {
    "slideshow": {
     "slide_type": "slide"
    }
   },
   "source": [
    "## Ajuste polinomial discreto"
   ]
  },
  {
   "cell_type": "markdown",
   "metadata": {
    "slideshow": {
     "slide_type": "-"
    }
   },
   "source": [
    "3. Resolução da equação normal."
   ]
  },
  {
   "cell_type": "code",
   "execution_count": null,
   "metadata": {},
   "outputs": [],
   "source": [
    "def ajuste_polinomial(x,y,n):\n",
    "    AtA,Atb = equacao_normal(x,y,n)\n",
    "    \n",
    "    return la.solve(AtA,Atb)"
   ]
  },
  {
   "cell_type": "code",
   "execution_count": null,
   "metadata": {
    "slideshow": {
     "slide_type": "fragment"
    }
   },
   "outputs": [],
   "source": [
    "# Exemplo\n",
    "x = np.array([1.0, 2, 3, 4])\n",
    "y = np.array([0.0, 1, 1, 2])\n",
    "\n",
    "c = ajuste_polinomial(x,y,1)\n",
    "c"
   ]
  },
  {
   "cell_type": "markdown",
   "metadata": {
    "slideshow": {
     "slide_type": "slide"
    }
   },
   "source": [
    "## Método de Hörner"
   ]
  },
  {
   "cell_type": "markdown",
   "metadata": {},
   "source": [
    "Para avaliar o polinômio escrito na base monomial, usamos o [método de Hörner](https://pt.wikipedia.org/wiki/Esquema_de_Horner):"
   ]
  },
  {
   "cell_type": "code",
   "execution_count": null,
   "metadata": {},
   "outputs": [],
   "source": [
    "def avalia_monomial(c,t):\n",
    "    n = c.size - 1\n",
    "    s = c[n]*t\n",
    "    for j in range(n-1,0,-1):\n",
    "        s = (c[j] + s)*t\n",
    "        \n",
    "    return s + c[0]"
   ]
  },
  {
   "cell_type": "code",
   "execution_count": null,
   "metadata": {
    "slideshow": {
     "slide_type": "fragment"
    }
   },
   "outputs": [],
   "source": [
    "avalia_monomial(c,2.5)"
   ]
  },
  {
   "cell_type": "markdown",
   "metadata": {
    "slideshow": {
     "slide_type": "slide"
    }
   },
   "source": [
    "## Visualização do polinômio de ajuste"
   ]
  },
  {
   "cell_type": "code",
   "execution_count": null,
   "metadata": {},
   "outputs": [],
   "source": [
    "# criamos uma figura com seus eixos\n",
    "fig,ax = plt.subplots()\n",
    "\n",
    "# calculamos as constantes da reta de ajuste P\n",
    "c = ajuste_polinomial(x,y,1)\n",
    "\n",
    "# desenhamos o gráfico de P\n",
    "u = np.linspace(x.min(), x.max(), 100)\n",
    "v = avalia_monomial(c,u)\n",
    "ax.plot(u,v)\n",
    "    \n",
    "# desenhamos as amostras (x, y)\n",
    "ax.plot(x,y,'ro')\n",
    "plt.show()"
   ]
  },
  {
   "cell_type": "markdown",
   "metadata": {
    "slideshow": {
     "slide_type": "slide"
    }
   },
   "source": [
    "Vicente Helano  \n",
    "UFCA | Centro de Ciências e Tecnologia"
   ]
  }
 ],
 "metadata": {
  "celltoolbar": "Slideshow",
  "kernelspec": {
   "display_name": "Python 3 (ipykernel)",
   "language": "python",
   "name": "python3"
  },
  "language_info": {
   "codemirror_mode": {
    "name": "ipython",
    "version": 3
   },
   "file_extension": ".py",
   "mimetype": "text/x-python",
   "name": "python",
   "nbconvert_exporter": "python",
   "pygments_lexer": "ipython3",
   "version": "3.9.2"
  }
 },
 "nbformat": 4,
 "nbformat_minor": 4
}
