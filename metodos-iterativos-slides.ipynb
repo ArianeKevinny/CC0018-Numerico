{
 "cells": [
  {
   "cell_type": "markdown",
   "metadata": {
    "slideshow": {
     "slide_type": "slide"
    }
   },
   "source": [
    "# Métodos iterativos"
   ]
  },
  {
   "cell_type": "markdown",
   "metadata": {},
   "source": [
    "Vicente Helano  \n",
    "UFCA | Centro de Ciências e Tecnologia"
   ]
  },
  {
   "cell_type": "markdown",
   "metadata": {
    "slideshow": {
     "slide_type": "slide"
    }
   },
   "source": [
    "# Método de Jacobi"
   ]
  },
  {
   "cell_type": "markdown",
   "metadata": {},
   "source": [
    "Considere o sistema:"
   ]
  },
  {
   "cell_type": "markdown",
   "metadata": {},
   "source": [
    "\\begin{array}{rcrcrcr}\n",
    "9x_1 &+& x_2 &+& x_3 &=& 1\\\\\n",
    "2x_1 &+& 10x_2 &+& 3x_3 &=& 2\\\\\n",
    "3x_1 &+& 4x_2 &+& 11x_3 &=& 3\n",
    "\\end{array}"
   ]
  },
  {
   "cell_type": "markdown",
   "metadata": {
    "slideshow": {
     "slide_type": "slide"
    }
   },
   "source": [
    "# Método de Jacobi"
   ]
  },
  {
   "cell_type": "markdown",
   "metadata": {},
   "source": [
    "Para um sistema $n \\times n$, teremos:"
   ]
  },
  {
   "cell_type": "markdown",
   "metadata": {},
   "source": [
    "\\begin{align*}\n",
    "x_1^{(k+1)} &= \\frac{1}{a_{11}} \\left( -a_{12}x_2^{(k)} -  a_{13}x_3^{(k)} - \\cdots - a_{1n}x_n^{(k)} + b_1 \\right)\\\\\n",
    "x_2^{(k+1)} &= \\frac{1}{a_{22}} \\left( -a_{21}x_1^{(k)} -  a_{23}x_3^{(k)} - \\cdots - a_{2n}x_n^{(k)} + b_2 \\right)\\\\\n",
    "&\\vdots\\\\\n",
    "x_n^{(k+1)} &= \\frac{1}{a_{nn}} \\left( -a_{n1}x_1^{(k)} -  a_{n2}x_2^{(k)} - \\cdots - a_{n,(n-1)}x_{n-1}^{(k)} + b_n \\right)\\\\\n",
    "\\end{align*}"
   ]
  },
  {
   "cell_type": "markdown",
   "metadata": {
    "slideshow": {
     "slide_type": "fragment"
    }
   },
   "source": [
    "$$\n",
    "x_i^{(k+1)} = \\frac{1}{a_{ii}}\\left[b_i \\displaystyle -\\sum_{\\substack{j=1 \\\\ j\\ne i}}^{n} \\left( a_{ij}x_j^{(k)} \\right)    \\right] \\qquad i = 1, 2, \\dotsc n\n",
    "$$"
   ]
  },
  {
   "cell_type": "markdown",
   "metadata": {
    "slideshow": {
     "slide_type": "slide"
    }
   },
   "source": [
    "## Critério de parada"
   ]
  },
  {
   "cell_type": "markdown",
   "metadata": {},
   "source": [
    "$$\n",
    "\\|\\mathbf{x}^{(k+1)} - \\mathbf{x}^{(k)} \\| < \\varepsilon \\cdot \\max\\left\\{\\|\\mathbf{x}^{(k+1)}\\|, 1\\right\\}\n",
    "$$"
   ]
  },
  {
   "cell_type": "markdown",
   "metadata": {},
   "source": [
    "Usaremos a `linalg.norm` por conveniência. Por exemplo,"
   ]
  },
  {
   "cell_type": "code",
   "execution_count": 2,
   "metadata": {},
   "outputs": [
    {
     "data": {
      "text/plain": [
       "False"
      ]
     },
     "execution_count": 2,
     "metadata": {},
     "output_type": "execute_result"
    }
   ],
   "source": [
    "import numpy as np\n",
    "from numpy import linalg as la\n",
    "\n",
    "tol = 1e-6\n",
    "x0 = np.array([[1],[2],[3]])\n",
    "x = np.array([[4],[5],[6]])\n",
    "\n",
    "la.norm(x-x0) < tol*max([la.norm(x),1.0])"
   ]
  },
  {
   "cell_type": "markdown",
   "metadata": {
    "slideshow": {
     "slide_type": "slide"
    }
   },
   "source": [
    "## Implementação"
   ]
  },
  {
   "cell_type": "code",
   "execution_count": 3,
   "metadata": {},
   "outputs": [],
   "source": [
    "def jacobi(A,b,x0,N,tol):\n",
    "    m,n = A.shape\n",
    "    x = np.zeros((n,1))\n",
    "    k = 1\n",
    "    while (k <= N):\n",
    "        for i in range(n):\n",
    "            soma = b[i]\n",
    "            for j in range(n):\n",
    "                if (i != j):\n",
    "                    soma = soma - A[i,j]*x0[j]\n",
    "            x[i] = soma/A[i,i]\n",
    "            \n",
    "        if la.norm(x-x0) < tol*max([la.norm(x),1]):\n",
    "            return x,k\n",
    "        \n",
    "        k = k + 1\n",
    "        for i in range(n):\n",
    "            x0[i] = x[i]\n",
    "    \n",
    "    print(\"Número máximo de iterações foi excedido\")\n",
    "    return x,k"
   ]
  },
  {
   "cell_type": "markdown",
   "metadata": {
    "slideshow": {
     "slide_type": "fragment"
    }
   },
   "source": [
    "Quantos flops realiza o método de Jacobi?"
   ]
  },
  {
   "cell_type": "markdown",
   "metadata": {
    "slideshow": {
     "slide_type": "slide"
    }
   },
   "source": [
    "## Exemplo"
   ]
  },
  {
   "cell_type": "markdown",
   "metadata": {},
   "source": [
    "\\begin{array}{rcrcrcr}\n",
    "9x_1 &+& x_2 &+& x_3 &=& 1\\\\\n",
    "2x_1 &+& 10x_2 &+& 3x_3 &=& 2\\\\\n",
    "3x_1 &+& 4x_2 &+& 11x_3 &=& 3\n",
    "\\end{array}"
   ]
  },
  {
   "cell_type": "code",
   "execution_count": 17,
   "metadata": {
    "scrolled": true
   },
   "outputs": [
    {
     "name": "stdout",
     "output_type": "stream",
     "text": [
      "[[0.]\n",
      " [0.]\n",
      " [0.]]\n"
     ]
    },
    {
     "data": {
      "text/plain": [
       "(array([[0.07438017],\n",
       "        [0.12278631],\n",
       "        [0.20779221]]),\n",
       " 23)"
      ]
     },
     "execution_count": 17,
     "metadata": {},
     "output_type": "execute_result"
    }
   ],
   "source": [
    "# Teste de Jacobi\n",
    "A = np.array([[9.0,  1.0,  1.0],\n",
    "              [2.0, 10.0,  3.0],\n",
    "              [3.0,  4.0, 11.0]])\n",
    "b = np.array([[1.0],[2.0],[3.0]])\n",
    "x0 = np.zeros(b.shape)\n",
    "print(x0)\n",
    "jacobi(A,b,x0,100,1e-8)\n"
   ]
  },
  {
   "cell_type": "markdown",
   "metadata": {
    "slideshow": {
     "slide_type": "slide"
    }
   },
   "source": [
    "## Método de Gauss-Seidel"
   ]
  },
  {
   "cell_type": "markdown",
   "metadata": {},
   "source": [
    "\\begin{align*}\n",
    "x_1^{(k+1)} &= \\frac{1}{a_{11}} \\left( -a_{12}x_2^{(k)} -  a_{13}x_3^{(k)} - \\cdots - a_{1n}x_n^{(k)} + b_1 \\right)\\\\\n",
    "x_2^{(k+1)} &= \\frac{1}{a_{22}} \\left( -a_{21}x_1^{\\color{red}{\\bf (k+1)}} -  a_{23}x_3^{(k)} - \\cdots - a_{2n}x_n^{(k)} + b_2 \\right)\\\\\n",
    "&\\vdots\\\\\n",
    "x_n^{(k+1)} &= \\frac{1}{a_{nn}} \\left( -a_{n1}x_1^{\\color{red}{\\bf (k+1)}} -  a_{n2}x_2^{\\color{red}{\\bf (k+1)}} - \\cdots - a_{n,(n-1)}x_{n-1}^{\\color{red}{\\bf (k+1)}} + b_n \\right)\\\\\n",
    "\\end{align*}"
   ]
  },
  {
   "cell_type": "markdown",
   "metadata": {
    "slideshow": {
     "slide_type": "fragment"
    }
   },
   "source": [
    "$$\n",
    "x_i^{(k+1)} = \\frac{1}{a_{ii}}\n",
    "\\left[ b_i \\displaystyle  -\\sum_{\\substack{j=1}}^{i-1} \\left( a_{ij}x_j^{\\color{red}{\\bf (k+1)}} \\right)\n",
    "                      -\\sum_{\\substack{j=i+1}}^{n} \\left( a_{ij}x_j^{(k)} \\right)     \\right] \\qquad i = 1, 2, \\dotsc n\n",
    "$$"
   ]
  },
  {
   "cell_type": "markdown",
   "metadata": {
    "slideshow": {
     "slide_type": "slide"
    }
   },
   "source": [
    "## Implementação"
   ]
  },
  {
   "cell_type": "code",
   "execution_count": 5,
   "metadata": {},
   "outputs": [],
   "source": [
    "def gauss_seidel(A,b,x0,N,tol):\n",
    "    m,n = A.shape\n",
    "    x = np.zeros((n,1))\n",
    "    k = 1\n",
    "    while (k <= N):\n",
    "        for i in range(n):\n",
    "            soma = b[i]\n",
    "            # contribuição de x_{k+1}\n",
    "            for j in range(0,i):\n",
    "                soma = soma - A[i,j]*x[j]\n",
    "                \n",
    "            # contribuição de x_k\n",
    "            for j in range(i+1,n):\n",
    "                soma = soma - A[i,j]*x0[j]\n",
    "                    \n",
    "            x[i] = soma/A[i,i]\n",
    "            \n",
    "        if la.norm(x-x0) < tol*max([la.norm(x),1]):\n",
    "            return x,k\n",
    "        \n",
    "        k = k + 1\n",
    "        for i in range(n):\n",
    "            x0[i] = x[i]\n",
    "    \n",
    "    print(\"Número máximo de iterações foi excedido\")\n",
    "    return x,k"
   ]
  },
  {
   "cell_type": "markdown",
   "metadata": {
    "slideshow": {
     "slide_type": "slide"
    }
   },
   "source": [
    "## Exemplo"
   ]
  },
  {
   "cell_type": "code",
   "execution_count": 6,
   "metadata": {
    "scrolled": true
   },
   "outputs": [
    {
     "data": {
      "text/plain": [
       "(array([[0.07438017],\n",
       "        [0.1227863 ],\n",
       "        [0.20779221]]),\n",
       " 9)"
      ]
     },
     "execution_count": 6,
     "metadata": {},
     "output_type": "execute_result"
    }
   ],
   "source": [
    "# Teste de Gauss-Seidel\n",
    "A = np.array([[9.0,  1.0,  1.0],\n",
    "              [2.0, 10.0,  3.0],\n",
    "              [3.0,  4.0, 11.0]])\n",
    "b = np.array([[1.0],[2.0],[3.0]])\n",
    "x0 = np.array([[0.0],[0.0],[0.0]])\n",
    "\n",
    "gauss_seidel(A,b,x0,100,1e-8)"
   ]
  },
  {
   "cell_type": "markdown",
   "metadata": {
    "slideshow": {
     "slide_type": "slide"
    }
   },
   "source": [
    "# Técnica de particionamento "
   ]
  },
  {
   "cell_type": "markdown",
   "metadata": {},
   "source": [
    "Considere um sistema $\\mathbf{A}\\mathbf{x} = \\mathbf{b}$ e escreva"
   ]
  },
  {
   "cell_type": "markdown",
   "metadata": {},
   "source": [
    "$$\n",
    "\\mathbf{A} = \\mathbf{D} + \\mathbf{L} + \\mathbf{U}\n",
    "$$"
   ]
  },
  {
   "cell_type": "markdown",
   "metadata": {},
   "source": [
    "* $\\mathbf{D} = [\\,a_{ii} \\,]$, $i = 1, 2, \\dotsc, n$\n",
    "* $\\mathbf{L} = [\\,a_{ij} \\,]$, $i,j = 1, 2, \\dotsc, n$, $i > j$\n",
    "* $\\mathbf{U} = [\\,a_{ij} \\,]$, $i,j = 1, 2, \\dotsc, n$, $i < j$"
   ]
  },
  {
   "cell_type": "markdown",
   "metadata": {
    "slideshow": {
     "slide_type": "slide"
    }
   },
   "source": [
    "## Matriz de Jacobi"
   ]
  },
  {
   "cell_type": "markdown",
   "metadata": {},
   "source": [
    "\\begin{align*}\n",
    "\\mathbf{A}\\mathbf{x} &= \\left(\\mathbf{D} + \\mathbf{L} + \\mathbf{U} \\right) \\mathbf{x} = \\mathbf{b}\\\\\n",
    "\\mathbf{D}\\mathbf{x} &=  -\\left(\\mathbf{L} + \\mathbf{U} \\right) \\mathbf{x} + \\mathbf{b}\\\\\n",
    "\\mathbf{x}^{(k+1)} &=  -\\mathbf{D}^{-1}\\left(\\mathbf{L} + \\mathbf{U} \\right) \\mathbf{x}^{(k)} + \\mathbf{D}^{-1}\\mathbf{b}\\\\\n",
    "&= \\mathbf{T}_j \\mathbf{x}^{(k)} + \\mathbf{c}\n",
    "\\end{align*}"
   ]
  },
  {
   "cell_type": "markdown",
   "metadata": {
    "slideshow": {
     "slide_type": "slide"
    }
   },
   "source": [
    "## Matriz de Jacobi"
   ]
  },
  {
   "cell_type": "markdown",
   "metadata": {},
   "source": [
    "\\begin{array}{rcrcrcr}\n",
    "9x_1 &+& x_2 &+& x_3 &=& 1\\\\\n",
    "2x_1 &+& 10x_2 &+& 3x_3 &=& 2\\\\\n",
    "3x_1 &+& 4x_2 &+& 11x_3 &=& 3\n",
    "\\end{array}"
   ]
  },
  {
   "cell_type": "markdown",
   "metadata": {
    "slideshow": {
     "slide_type": "fragment"
    }
   },
   "source": [
    "$$\\mathbf{T}_j =\n",
    "\\begin{bmatrix}\n",
    "0 & -\\frac{1}{9}  & -\\frac{1}{9}\\\\\n",
    "-\\frac{2}{10}  & 0 & -\\frac{3}{10}\\\\\n",
    "-\\frac{3}{11}  & -\\frac{4}{11} & 0\\\\\n",
    "\\end{bmatrix}\n",
    "$$"
   ]
  },
  {
   "cell_type": "code",
   "execution_count": 7,
   "metadata": {
    "slideshow": {
     "slide_type": "fragment"
    }
   },
   "outputs": [
    {
     "data": {
      "text/plain": [
       "array([[-0.        , -0.11111111, -0.11111111],\n",
       "       [-0.2       , -0.        , -0.3       ],\n",
       "       [-0.27272727, -0.36363636, -0.        ]])"
      ]
     },
     "execution_count": 7,
     "metadata": {},
     "output_type": "execute_result"
    }
   ],
   "source": [
    "A = np.array([[9.0,  1.0,  1.0],\n",
    "              [2.0, 10.0,  3.0],\n",
    "              [3.0,  4.0, 11.0]])\n",
    "D = np.diag(np.diag(A))\n",
    "L = np.tril(A,-1)\n",
    "U = np.triu(A,1)\n",
    "Tj = -np.dot(la.inv(D),L+U)\n",
    "Tj"
   ]
  },
  {
   "cell_type": "markdown",
   "metadata": {
    "slideshow": {
     "slide_type": "slide"
    }
   },
   "source": [
    "## Matriz de Gauss-Seidel"
   ]
  },
  {
   "cell_type": "markdown",
   "metadata": {},
   "source": [
    "\\begin{align*}\n",
    "\\mathbf{A}\\mathbf{x} &= \\left(\\mathbf{D} + \\mathbf{L} + \\mathbf{U} \\right) \\mathbf{x} = \\mathbf{b}\\\\\n",
    "\\left(\\mathbf{D}+\\mathbf{L}\\right)\\mathbf{x} &=  - \\mathbf{U} \\mathbf{x} + \\mathbf{b}\\\\\n",
    "\\mathbf{x}^{(k+1)} &=  -\\left(\\mathbf{D}+\\mathbf{L}\\right)^{-1}\\mathbf{U} \\mathbf{x}^{(k)} + \\left(\\mathbf{D}+\\mathbf{L}\\right)^{-1}\\mathbf{b}\\\\\n",
    "&= \\mathbf{T}_g \\mathbf{x}^{(k)} + \\mathbf{c}\n",
    "\\end{align*}"
   ]
  },
  {
   "cell_type": "markdown",
   "metadata": {
    "slideshow": {
     "slide_type": "slide"
    }
   },
   "source": [
    "## Matriz de Gauss-Seidel"
   ]
  },
  {
   "cell_type": "markdown",
   "metadata": {},
   "source": [
    "\\begin{array}{rcrcrcr}\n",
    "9x_1 &+& x_2 &+& x_3 &=& 1\\\\\n",
    "2x_1 &+& 10x_2 &+& 3x_3 &=& 2\\\\\n",
    "3x_1 &+& 4x_2 &+& 11x_3 &=& 3\n",
    "\\end{array}"
   ]
  },
  {
   "cell_type": "markdown",
   "metadata": {
    "slideshow": {
     "slide_type": "fragment"
    }
   },
   "source": [
    "$$\\mathbf{T}_g =\n",
    "\\begin{bmatrix}\n",
    "0 & -\\frac{1}{9}  & -\\frac{1}{9}\\\\\n",
    "0  & \\frac{1}{45} & -\\frac{5}{18}\\\\\n",
    "0  & \\frac{1}{45} & \\frac{13}{99}\\\\\n",
    "\\end{bmatrix}\n",
    "$$"
   ]
  },
  {
   "cell_type": "code",
   "execution_count": 8,
   "metadata": {
    "slideshow": {
     "slide_type": "fragment"
    }
   },
   "outputs": [
    {
     "data": {
      "text/plain": [
       "array([[-0.        , -0.11111111, -0.11111111],\n",
       "       [-0.        ,  0.02222222, -0.27777778],\n",
       "       [-0.        ,  0.02222222,  0.13131313]])"
      ]
     },
     "execution_count": 8,
     "metadata": {},
     "output_type": "execute_result"
    }
   ],
   "source": [
    "A = np.array([[9.0,  1.0,  1.0],\n",
    "              [2.0, 10.0,  3.0],\n",
    "              [3.0,  4.0, 11.0]])\n",
    "D = np.diag(np.diag(A))\n",
    "L = np.tril(A,-1)\n",
    "U = np.triu(A,1)\n",
    "Tg = -np.dot(la.inv(D+L),U)\n",
    "Tg"
   ]
  },
  {
   "cell_type": "markdown",
   "metadata": {
    "slideshow": {
     "slide_type": "slide"
    }
   },
   "source": [
    "## Critério de convergência"
   ]
  },
  {
   "cell_type": "markdown",
   "metadata": {},
   "source": [
    "**Teorema**. Um método iterativo da forma"
   ]
  },
  {
   "cell_type": "markdown",
   "metadata": {},
   "source": [
    "$$\n",
    "\\mathbf{x}^{(k+1)} = \\mathbf{M} \\mathbf{x}^{(k)} + \\mathbf{c} \\qquad k = 0, 1, \\dotsc\n",
    "$$"
   ]
  },
  {
   "cell_type": "markdown",
   "metadata": {},
   "source": [
    "converge para qualquer valor inicial $\\mathbf{x}^{(0)}$ se, e somente se,"
   ]
  },
  {
   "cell_type": "markdown",
   "metadata": {},
   "source": [
    "$$\n",
    "\\rho(\\mathbf{M}) = \\max_{1 \\le i \\le n} |\\lambda_i| < 1\n",
    "$$"
   ]
  },
  {
   "cell_type": "markdown",
   "metadata": {
    "slideshow": {
     "slide_type": "slide"
    }
   },
   "source": [
    "## Critério de convergência"
   ]
  },
  {
   "cell_type": "markdown",
   "metadata": {
    "slideshow": {
     "slide_type": "-"
    }
   },
   "source": [
    "\\begin{array}{rcrcrcr}\n",
    "9x_1 &+& x_2 &+& x_3 &=& 1\\\\\n",
    "2x_1 &+& 10x_2 &+& 3x_3 &=& 2\\\\\n",
    "3x_1 &+& 4x_2 &+& 11x_3 &=& 3\n",
    "\\end{array}"
   ]
  },
  {
   "cell_type": "markdown",
   "metadata": {
    "slideshow": {
     "slide_type": "fragment"
    }
   },
   "source": [
    "$$\\mathbf{T}_j =\n",
    "\\begin{bmatrix}\n",
    "0 & -\\frac{1}{9}  & -\\frac{1}{9}\\\\\n",
    "-\\frac{2}{10}  & 0 & -\\frac{3}{10}\\\\\n",
    "-\\frac{3}{11}  & -\\frac{4}{11} & 0\\\\\n",
    "\\end{bmatrix}\n",
    "$$"
   ]
  },
  {
   "cell_type": "code",
   "execution_count": 9,
   "metadata": {
    "slideshow": {
     "slide_type": "fragment"
    }
   },
   "outputs": [
    {
     "data": {
      "text/plain": [
       "0.4472271510919682"
      ]
     },
     "execution_count": 9,
     "metadata": {},
     "output_type": "execute_result"
    }
   ],
   "source": [
    "max(abs(la.eigvals(Tj)))"
   ]
  },
  {
   "cell_type": "markdown",
   "metadata": {
    "slideshow": {
     "slide_type": "slide"
    }
   },
   "source": [
    "## Critério de convergência"
   ]
  },
  {
   "cell_type": "markdown",
   "metadata": {},
   "source": [
    "\\begin{array}{rcrcrcr}\n",
    "9x_1 &+& x_2 &+& x_3 &=& 1\\\\\n",
    "2x_1 &+& 10x_2 &+& 3x_3 &=& 2\\\\\n",
    "3x_1 &+& 4x_2 &+& 11x_3 &=& 3\n",
    "\\end{array}"
   ]
  },
  {
   "cell_type": "markdown",
   "metadata": {
    "slideshow": {
     "slide_type": "fragment"
    }
   },
   "source": [
    "$$\\mathbf{T}_g =\n",
    "\\begin{bmatrix}\n",
    "0 & -\\frac{1}{9}  & -\\frac{1}{9}\\\\\n",
    "0  & \\frac{1}{45} & -\\frac{5}{18}\\\\\n",
    "0  & \\frac{1}{45} & \\frac{13}{99}\\\\\n",
    "\\end{bmatrix}\n",
    "$$"
   ]
  },
  {
   "cell_type": "code",
   "execution_count": 10,
   "metadata": {
    "scrolled": true,
    "slideshow": {
     "slide_type": "fragment"
    }
   },
   "outputs": [
    {
     "data": {
      "text/plain": [
       "0.09534625892455925"
      ]
     },
     "execution_count": 10,
     "metadata": {},
     "output_type": "execute_result"
    }
   ],
   "source": [
    "max(abs(la.eigvals(Tg)))"
   ]
  },
  {
   "cell_type": "markdown",
   "metadata": {
    "slideshow": {
     "slide_type": "slide"
    }
   },
   "source": [
    "## Condição suficiente"
   ]
  },
  {
   "cell_type": "markdown",
   "metadata": {},
   "source": [
    "Lembre-se que $\\rho(\\mathbf{A}) \\le \\|\\mathbf{A}\\|$, onde $\\|\\cdot\\|$ e uma norma induzida.\n",
    "Isso nos leva ao seguinte resultado."
   ]
  },
  {
   "cell_type": "markdown",
   "metadata": {},
   "source": [
    "**Corolário**. Se um método iterativo possui a forma"
   ]
  },
  {
   "cell_type": "markdown",
   "metadata": {},
   "source": [
    "$$\n",
    "\\mathbf{x}^{(k+1)} = \\mathbf{M} \\mathbf{x}^{(k)} + \\mathbf{c} \\qquad k = 0, 1, \\dotsc\n",
    "$$"
   ]
  },
  {
   "cell_type": "markdown",
   "metadata": {},
   "source": [
    "e $\\|M\\| < 1$, para qualquer norma induzida, então ele converge para qualquer valor inicial $\\mathbf{x}^{(0)}$."
   ]
  },
  {
   "cell_type": "code",
   "execution_count": 11,
   "metadata": {
    "scrolled": true,
    "slideshow": {
     "slide_type": "fragment"
    }
   },
   "outputs": [
    {
     "data": {
      "text/plain": [
       "(0.6363636363636364, 0.30000000000000004)"
      ]
     },
     "execution_count": 11,
     "metadata": {},
     "output_type": "execute_result"
    }
   ],
   "source": [
    "la.norm(Tj, np.inf), la.norm(Tg, np.inf)"
   ]
  },
  {
   "cell_type": "markdown",
   "metadata": {
    "slideshow": {
     "slide_type": "slide"
    }
   },
   "source": [
    "## Matriz com diagonal dominante"
   ]
  },
  {
   "cell_type": "markdown",
   "metadata": {},
   "source": [
    "Uma matriz $\\mathbf{A}$ possui **diagonal estritamente dominante (por linha)** quando"
   ]
  },
  {
   "cell_type": "markdown",
   "metadata": {},
   "source": [
    "$$\n",
    "|a_{ii}| > \\sum_{\\substack{j=1\\\\ j \\ne i}}^n |a_{ij}| \\qquad i = 1, 2, \\dotsc, n\n",
    "$$"
   ]
  },
  {
   "cell_type": "markdown",
   "metadata": {
    "slideshow": {
     "slide_type": "slide"
    }
   },
   "source": [
    "### Exemplo"
   ]
  },
  {
   "cell_type": "markdown",
   "metadata": {
    "slideshow": {
     "slide_type": "-"
    }
   },
   "source": [
    "\\begin{array}{rcrcrcr}\n",
    "9x_1 &+& x_2 &+& x_3 &=& 1\\\\\n",
    "2x_1 &+& 10x_2 &+& 3x_3 &=& 2\\\\\n",
    "3x_1 &+& 4x_2 &+& 11x_3 &=& 3\n",
    "\\end{array}"
   ]
  },
  {
   "cell_type": "markdown",
   "metadata": {
    "slideshow": {
     "slide_type": "slide"
    }
   },
   "source": [
    "### Exemplo"
   ]
  },
  {
   "cell_type": "markdown",
   "metadata": {
    "slideshow": {
     "slide_type": "-"
    }
   },
   "source": [
    "\\begin{array}{rcrcrcr}\n",
    "x_1 &+& 4x_2 &+& x_3 &=& 1\\\\\n",
    "-6x_1 &+& 2x_2 &+& x_3 &=& 2\\\\\n",
    "-x_1 &-& x_2 &+& 3x_3 &=& 3\n",
    "\\end{array}"
   ]
  },
  {
   "cell_type": "markdown",
   "metadata": {
    "slideshow": {
     "slide_type": "slide"
    }
   },
   "source": [
    "### Critério de convergência alternativo"
   ]
  },
  {
   "cell_type": "markdown",
   "metadata": {
    "slideshow": {
     "slide_type": "-"
    }
   },
   "source": [
    "**Proposição**. Se $\\mathbf{A}$ possui diagonal estritamente dominante, então os métodos de Jacobi e Gauss-Seidel convergem para qualquer escolha de $\\mathbf{x}^{(0)}$."
   ]
  },
  {
   "cell_type": "markdown",
   "metadata": {
    "slideshow": {
     "slide_type": "slide"
    }
   },
   "source": [
    "## Velocidade de convergência"
   ]
  },
  {
   "cell_type": "markdown",
   "metadata": {},
   "source": [
    "A velocidade de convergência de um método iterativo depende do raio espectral da matriz do método. Embora não tenhamos um resultado para sistemas em geral, em alguns casos é possível prever qual deles convergirá mais rápido."
   ]
  },
  {
   "cell_type": "markdown",
   "metadata": {
    "slideshow": {
     "slide_type": "slide"
    }
   },
   "source": [
    "## Velocidade de convergência"
   ]
  },
  {
   "cell_type": "markdown",
   "metadata": {
    "slideshow": {
     "slide_type": "-"
    }
   },
   "source": [
    "\\begin{array}{rcrcrcr}\n",
    "9x_1 &+& x_2 &+& x_3 &=& 1\\\\\n",
    "2x_1 &+& 10x_2 &+& 3x_3 &=& 2\\\\\n",
    "3x_1 &+& 4x_2 &+& 11x_3 &=& 3\n",
    "\\end{array}"
   ]
  },
  {
   "cell_type": "code",
   "execution_count": 12,
   "metadata": {},
   "outputs": [
    {
     "data": {
      "text/plain": [
       "0.4472271510919682"
      ]
     },
     "execution_count": 12,
     "metadata": {},
     "output_type": "execute_result"
    }
   ],
   "source": [
    "abs(la.eigvals(Tj)).max()"
   ]
  },
  {
   "cell_type": "code",
   "execution_count": 13,
   "metadata": {},
   "outputs": [
    {
     "data": {
      "text/plain": [
       "0.09534625892455925"
      ]
     },
     "execution_count": 13,
     "metadata": {},
     "output_type": "execute_result"
    }
   ],
   "source": [
    "abs(la.eigvals(Tg)).max()"
   ]
  },
  {
   "cell_type": "markdown",
   "metadata": {
    "slideshow": {
     "slide_type": "slide"
    }
   },
   "source": [
    "## Velocidade de convergência"
   ]
  },
  {
   "cell_type": "markdown",
   "metadata": {
    "slideshow": {
     "slide_type": "-"
    }
   },
   "source": [
    "\\begin{array}{rcrcrcr}\n",
    "7x_1 &+& 6x_2 &+& 9x_3 &=& 2\\\\\n",
    "4x_1 &+& 5x_2 &-& 4x_3 &=& 1\\\\\n",
    "-7x_1 &-& 3x_2 &+& 8x_3 &=& 3\n",
    "\\end{array}"
   ]
  },
  {
   "cell_type": "code",
   "execution_count": 14,
   "metadata": {},
   "outputs": [],
   "source": [
    "A = np.array([[ 7.0, 6.0, 9.0],\n",
    "              [ 4.0, 5.0,-4.0],\n",
    "              [-7.0,-3.0, 8.0]])\n",
    "D = np.diag(np.diag(A))\n",
    "L = np.tril(A,-1)\n",
    "U = np.triu(A,1)\n",
    "Tj = -np.dot(la.inv(D),(L+U))\n",
    "Tg = -np.dot(la.inv(D+L),U)"
   ]
  },
  {
   "cell_type": "code",
   "execution_count": 15,
   "metadata": {},
   "outputs": [
    {
     "data": {
      "text/plain": [
       "0.641132809955697"
      ]
     },
     "execution_count": 15,
     "metadata": {},
     "output_type": "execute_result"
    }
   ],
   "source": [
    "abs(la.eigvals(Tj)).max()"
   ]
  },
  {
   "cell_type": "code",
   "execution_count": 16,
   "metadata": {},
   "outputs": [
    {
     "data": {
      "text/plain": [
       "0.7745966692414834"
      ]
     },
     "execution_count": 16,
     "metadata": {},
     "output_type": "execute_result"
    }
   ],
   "source": [
    "abs(la.eigvals(Tg)).max()"
   ]
  },
  {
   "cell_type": "markdown",
   "metadata": {
    "slideshow": {
     "slide_type": "slide"
    }
   },
   "source": [
    "## Velocidade de convergência: caso particular"
   ]
  },
  {
   "cell_type": "markdown",
   "metadata": {},
   "source": [
    "**Proposição**. Seja $\\mathbf{A} = \\left[a_{ij}\\right]$ uma matriz quadrada de ordem $n$ tal que:\n",
    "* $a_{ij} \\le 0$, para $i \\ne j$, e;\n",
    "* $a_{ii} > 0$.\n",
    "\n",
    "Então, somente uma das afirmações a seguir é válida:\n",
    "\n",
    "1. $0 \\le \\rho\\!\\left(\\mathbf{T}_g\\right) < \\rho\\!\\left(\\mathbf{T}_j\\right) < 1$\n",
    "2. $1 < \\rho\\!\\left(\\mathbf{T}_j\\right) < \\rho\\!\\left(\\mathbf{T}_g\\right)$\n",
    "3. $\\rho\\!\\left(\\mathbf{T}_j\\right) = \\rho\\!\\left(\\mathbf{T}_g\\right) = 0$\n",
    "4. $\\rho\\!\\left(\\mathbf{T}_j\\right) = \\rho\\!\\left(\\mathbf{T}_g\\right) = 1$"
   ]
  },
  {
   "cell_type": "markdown",
   "metadata": {
    "slideshow": {
     "slide_type": "slide"
    }
   },
   "source": [
    "## Saiba mais"
   ]
  },
  {
   "cell_type": "markdown",
   "metadata": {},
   "source": [
    "* Estas anotações foram baseadas na Seção 7.3 de nosso livro-texto: Burden, R. L.; Faires, D.; Burden, A. M., **Análise Numérica**, 3ª ed., Cengage Learning: São Paulo, 2015."
   ]
  },
  {
   "cell_type": "markdown",
   "metadata": {},
   "source": [
    "* Se houver tempo, assista aos vídeos da professora Emanuele da UFC [aqui](https://www.youtube.com/playlist?list=PLomBG50UAP0m9ukqkap2GqlPXOBUq8FaL). O material dela é excelente!"
   ]
  },
  {
   "cell_type": "markdown",
   "metadata": {},
   "source": [
    "* Para aprender sobre a notação assintótica utilizada na representação da quantidade de flops (\"Oh-zão\" ou Oh-grande), recomendo assistir [este vídeo](https://www.youtube.com/watch?v=gjw7AaOs9P8) da professora Carla (UFABC) ou ler [este material](https://www.ime.usp.br/~pf/analise_de_algoritmos/aulas/Oh.html) do professor Paulo Feofiloff (IME/USP)."
   ]
  },
  {
   "cell_type": "markdown",
   "metadata": {
    "slideshow": {
     "slide_type": "slide"
    }
   },
   "source": [
    "Vicente Helano  \n",
    "UFCA | Centro de Ciências e Tecnologia"
   ]
  }
 ],
 "metadata": {
  "celltoolbar": "Slideshow",
  "kernelspec": {
   "display_name": "Python 3",
   "language": "python",
   "name": "python3"
  },
  "language_info": {
   "codemirror_mode": {
    "name": "ipython",
    "version": 3
   },
   "file_extension": ".py",
   "mimetype": "text/x-python",
   "name": "python",
   "nbconvert_exporter": "python",
   "pygments_lexer": "ipython3",
   "version": "3.11.0"
  }
 },
 "nbformat": 4,
 "nbformat_minor": 4
}
